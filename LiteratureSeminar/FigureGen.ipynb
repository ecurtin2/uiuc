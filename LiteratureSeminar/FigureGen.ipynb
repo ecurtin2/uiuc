{
 "cells": [
  {
   "cell_type": "code",
   "execution_count": 13,
   "metadata": {
    "collapsed": false
   },
   "outputs": [
    {
     "data": {
      "image/png": "[encoded data removed]",
      "text/plain": [
       "<matplotlib.figure.Figure at 0x7fe9c4ca1f90>"
      ]
     },
     "metadata": {},
     "output_type": "display_data"
    }
   ],
   "source": [
    "import matplotlib.pyplot as plt\n",
    "import matplotlib\n",
    "%matplotlib inline\n",
    "import seaborn as sns\n",
    "import numpy as np\n",
    "\n",
    "bgcol = (0.98, 0.98, 0.98)\n",
    "\n",
    "N = 1\n",
    "# The slices will be ordered and plotted counter-clockwise.\n",
    "\n",
    "fig = plt.figure(figsize=(4,4))\n",
    "font = {'weight' : 'bold',\n",
    "        'size'   : 42}\n",
    "\n",
    "matplotlib.rc('font', **font)\n",
    "labels = [str(i) for i in range(N)]\n",
    "np.random.seed(3)\n",
    "areas = np.random.rand(N)\n",
    "sizes = areas / np.sum(np.abs(areas))\n",
    "labels = ['Sum of Fitness Scores = ' + str(sizes[i])[:4] for i in range(len(sizes))]\n",
    "colors = sns.color_palette()[:N]\n",
    "#colors[0] = (0.6, 0.6, 0.6)\n",
    "explode = np.zeros(N)\n",
    "#explode[0] = 0.2\n",
    "#explode[3] = 0.2\n",
    "wedges, labels = plt.pie(sizes, explode=explode, labels=labels, colors=colors, \n",
    "                         shadow=False, startangle=90, labeldistance=0.0, textprops={'weight': 'bold',})\n",
    "fig.patch.set_facecolor(bgcol)\n",
    "for label in labels:\n",
    "    label.set_horizontalalignment('center')\n",
    "# Set aspect ratio to be equal so that pie is drawn as a circle.\n",
    "plt.axis('equal')\n",
    "plt.tight_layout()\n",
    "plt.savefig('images/pie0.eps', format='eps', dpi=400, facecolor=bgcol, bbox_inches=\"tight\")\n",
    "plt.show()\n"
   ]
  },
  {
   "cell_type": "code",
   "execution_count": 49,
   "metadata": {
    "collapsed": false
   },
   "outputs": [
    {
     "data": {
      "image/png": "[encoded data removed]",
      "text/plain": [
       "<matplotlib.figure.Figure at 0x7f3f33bb1590>"
      ]
     },
     "metadata": {},
     "output_type": "display_data"
    }
   ],
   "source": [
    "\"\"\"fig = plt.figure(figsize=(4,8))\n",
    "\n",
    "def get_local_minima(array):\n",
    "    \"\"\"Return local minima of array\n",
    "    \n",
    "    :param array: Data\n",
    "    :type array: iterable\n",
    "    :return: (minloc, minval) the indices are in minloc, the values in minval\n",
    "    \"\"\"\n",
    "    minloc = []\n",
    "    minval = []\n",
    "    N = len(array)\n",
    "    for i in range(1, N-1):\n",
    "        if (array[i] < array[i-1]) and (array[i] < array[i+1] + 10e-8):\n",
    "            minloc.append(i)\n",
    "            minval.append(array[i])\n",
    "    return np.asarray(minloc), np.asarray(minval)\n",
    "\n",
    "def gaussian(x, x0, sigma):\n",
    "    return np.exp(-(x - x0)**2/(2*sigma**2))\n",
    "\n",
    "x = np.linspace(-10, 10, 1000)\n",
    "y = (x**2 + 15*gaussian(x, 0.5, 1) \n",
    "    + 30*gaussian(x, 3, 0.5) \n",
    "    + 50*gaussian(x, -5, 0.2) \n",
    "    + 40*gaussian(x, 7, 0.3) \n",
    "    + 20*gaussian(x, -3.3, 0.4))\n",
    "\n",
    "teal = (35./255, 55./255, 59./255)\n",
    "orange= (235./255, 129./255, 27./255)\n",
    "cutoff = 25\n",
    "minloc, minval = get_local_minima(y)\n",
    "globmin = np.argmin(minval)\n",
    "cut = np.where(minval < cutoff)\n",
    "plt.axis('off')\n",
    "plt.plot(x, y, c=teal, linewidth=4)\n",
    "plt.plot(x[minloc[globmin]], minval[globmin], 'o', c=orange, markersize=15, markeredgecolor='none')\n",
    "#plt.plot(x[minloc], minval, 'o', c=orange, markersize=15, markeredgecolor='none')\n",
    "#plt.plot(x[minloc[cut]], minval[cut], 'o', c=orange, markersize=15, markeredgecolor='none')\n",
    "#plt.plot(x, cutoff*np.ones(len(x)), c=orange )\n",
    "plt.savefig('images/globalmin.eps', format='eps', dpi=800, \n",
    "            transparent=True, bbox_inches=\"tight\")\n",
    "plt.show()\n",
    "\"\"\""
   ]
  },
  {
   "cell_type": "code",
   "execution_count": null,
   "metadata": {
    "collapsed": false
   },
   "outputs": [],
   "source": []
  },
  {
   "cell_type": "code",
   "execution_count": null,
   "metadata": {
    "collapsed": false
   },
   "outputs": [],
   "source": []
  }
 ],
 "metadata": {
  "anaconda-cloud": {},
  "kernelspec": {
   "display_name": "Python [Root]",
   "language": "python",
   "name": "Python [Root]"
  },
  "language_info": {
   "codemirror_mode": {
    "name": "ipython",
    "version": 2
   },
   "file_extension": ".py",
   "mimetype": "text/x-python",
   "name": "python",
   "nbconvert_exporter": "python",
   "pygments_lexer": "ipython2",
   "version": "2.7.12"
  }
 },
 "nbformat": 4,
 "nbformat_minor": 0
}
