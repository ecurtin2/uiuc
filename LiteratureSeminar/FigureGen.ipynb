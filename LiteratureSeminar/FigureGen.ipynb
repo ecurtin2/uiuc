{
 "cells": [
  {
   "cell_type": "code",
   "execution_count": 50,
   "metadata": {
    "collapsed": false
   },
   "outputs": [
    {
     "data": {
      "image/png": "[encoded data removed]",
      "text/plain": [
       "<matplotlib.figure.Figure at 0x7f81951c6750>"
      ]
     },
     "metadata": {},
     "output_type": "display_data"
    }
   ],
   "source": [
    "import matplotlib.pyplot as plt\n",
    "import matplotlib\n",
    "%matplotlib inline\n",
    "import seaborn as sns\n",
    "import numpy as np\n",
    "\n",
    "bgcol = (0.98, 0.98, 0.98)\n",
    "N = 1\n",
    "# The slices will be ordered and plotted counter-clockwise.\n",
    "\n",
    "fig = plt.figure(figsize=(4,4))\n",
    "font = {'weight' : 'bold',\n",
    "        'size'   : 42}\n",
    "\n",
    "matplotlib.rc('font', **font)\n",
    "labels = [str(i) for i in range(N)]\n",
    "np.random.seed(3)\n",
    "areas = np.random.rand(N)\n",
    "sizes = areas / np.sum(np.abs(areas))\n",
    "labels = ['Sum of Fitness Scores = ' + str(sizes[i])[:4] for i in range(len(sizes))]\n",
    "colors = sns.color_palette()[:N]\n",
    "#colors[0] = (0.6, 0.6, 0.6)\n",
    "explode = np.zeros(N)\n",
    "#explode[0] = 0.2\n",
    "#explode[3] = 0.2\n",
    "wedges, labels = plt.pie(sizes, explode=explode, labels=labels, colors=colors, \n",
    "                         shadow=False, startangle=90, labeldistance=0.0, textprops={'weight': 'bold',})\n",
    "fig.patch.set_facecolor(bgcol)\n",
    "for label in labels:\n",
    "    label.set_horizontalalignment('center')\n",
    "# Set aspect ratio to be equal so that pie is drawn as a circle.\n",
    "plt.axis('equal')\n",
    "plt.tight_layout()\n",
    "plt.savefig('images/pie0.PNG', format='png', dpi=400, facecolor=bgcol)\n",
    "plt.show()"
   ]
  },
  {
   "cell_type": "code",
   "execution_count": null,
   "metadata": {
    "collapsed": false
   },
   "outputs": [],
   "source": []
  },
  {
   "cell_type": "code",
   "execution_count": null,
   "metadata": {
    "collapsed": false
   },
   "outputs": [],
   "source": []
  }
 ],
 "metadata": {
  "anaconda-cloud": {},
  "kernelspec": {
   "display_name": "Python [Root]",
   "language": "python",
   "name": "Python [Root]"
  },
  "language_info": {
   "codemirror_mode": {
    "name": "ipython",
    "version": 2
   },
   "file_extension": ".py",
   "mimetype": "text/x-python",
   "name": "python",
   "nbconvert_exporter": "python",
   "pygments_lexer": "ipython2",
   "version": "2.7.12"
  }
 },
 "nbformat": 4,
 "nbformat_minor": 0
}
