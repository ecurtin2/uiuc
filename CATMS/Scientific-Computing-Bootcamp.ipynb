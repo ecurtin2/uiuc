{
 "cells": [
  {
   "cell_type": "markdown",
   "metadata": {
    "collapsed": false,
    "nbpresent": {
     "id": "e16a6dea-b7b8-432f-89a4-d569e03c0b5d"
    }
   },
   "source": [
    "## Getting Started\n",
    "---\n",
    "\n",
    "This presentation is no help if you can't get the python packages it uses! There are a few options here. If you're not already set up, probably the easiest way to install python packages is [pip](https://pip.pypa.io/en/stable/). If you don't already have it, here are [installation instructions](https://packaging.python.org/installing/#install-pip-setuptools-and-wheel). I'm a big fan of the [anaconda](https://www.continuum.io/) python distrubution, which comes pre-loaded with basically everything I'm using today. Just use whatever works for you. \n",
    "\n",
    "For example, installing numpy is easy, in a command line:\n",
    "\n",
    "pip install numpy\n",
    "\n",
    "If you're using anaconda, you can also use their package manager:\n",
    "\n",
    "conda install numpy\n",
    "\n",
    "Pip is probably the preferred method, even when you're using anaconda. The packages I'm discussing today are [numpy](http://www.numpy.org/), [scipy](https://www.scipy.org/), [pandas](http://pandas.pydata.org/), [matplotlib](http://matplotlib.org/), [seaborn](https://stanford.edu/~mwaskom/software/seaborn/) (access forbidden? never seen that before), [Numba](http://numba.pydata.org/) and [Cython](http://cython.org/). As far as I know, all of these are in both package managers. \n",
    "\n",
    "This talk was made using a [jupyter](http://jupyter.org/) notebook. \n",
    "\n",
    "## Python is slow! Why bother?\n",
    "---\n",
    "\n",
    "This is a common reason people want to avoid python, and it's half true. See for example this function that performs a matrix multiplication:"
   ]
  },
  {
   "cell_type": "code",
   "execution_count": 1,
   "metadata": {
    "collapsed": false,
    "nbpresent": {
     "id": "5abd0ece-4387-4605-b22a-2c5d7a05a5e7"
    }
   },
   "outputs": [
    {
     "name": "stdout",
     "output_type": "stream",
     "text": [
      "CPU times: user 6.28 s, sys: 20 ms, total: 6.3 s\n",
      "Wall time: 6.28 s\n"
     ]
    }
   ],
   "source": [
    "import time\n",
    "import math\n",
    "N = 300\n",
    "\n",
    "mat1 = [[1.5*i + j for i in range(N)] for j in range(N)]\n",
    "mat2 = [[2.5*i + j for i in range(N)] for j in range(N)]\n",
    "\n",
    "def mmult(mat1, mat2):\n",
    "    mat3 = [[0.0 for i in range(N)] for j in range(N)]\n",
    "    \n",
    "    for i in range(N):     \n",
    "        for k in range(N):  \n",
    "            for j in range(N):  \n",
    "                mat3[i][k] += mat1[i][j] * mat2[j][k]\n",
    "    return mat3\n",
    "\n",
    "%time m3 = mmult(mat1, mat2)"
   ]
  },
  {
   "cell_type": "markdown",
   "metadata": {
    "nbpresent": {
     "id": "b5fff525-81af-468e-b2f5-730edbe71d06"
    }
   },
   "source": [
    "Well that doesn't seem so bad! This would take longer to do by hand! It actually is pretty slow.  [Here's](https://jakevdp.github.io/blog/2014/05/09/why-python-is-slow/)\n",
    "a look at some of the reasons why. It has to do with the fact that python is dynamically typed and interpreted, rather than compiled. Additionally, the arrays in native python aren't laid out in one chunk of memory.\n",
    "\n",
    "\n",
    "## It doesn't have to be this way! (Numpy section)\n",
    "---\n",
    "\n",
    "If you're going to be doing serious numerical work in python, numpy is essential. If you're doing a lot of work with arrays, the performance difference between raw python and C/C++/Fortran can easily be several orders of magnitude. Numpy is focused on fast, efficient manipulation of arrays. They can be any size, any dimension as long as your computer can store it. Numpy methods are compiled and very efficient (comparable to compiled code). Let's take a look at our matrix multiply again:"
   ]
  },
  {
   "cell_type": "code",
   "execution_count": 2,
   "metadata": {
    "collapsed": false,
    "nbpresent": {
     "id": "85cf3766-405c-4649-904b-29a1546a147b"
    }
   },
   "outputs": [
    {
     "name": "stdout",
     "output_type": "stream",
     "text": [
      "CPU times: user 16 ms, sys: 16 ms, total: 32 ms\n",
      "Wall time: 367 ms\n"
     ]
    }
   ],
   "source": [
    "import numpy as np # convention\n",
    "\n",
    "npmat1 = np.asarray(mat1) # use numpy arrays, they are contiguous\n",
    "npmat2 = np.asarray(mat2)\n",
    "\n",
    "%time npmat3 = np.dot(npmat1, npmat2) # dot is used for dot product \n",
    "                                      # or matrix multiply"
   ]
  },
  {
   "cell_type": "markdown",
   "metadata": {},
   "source": [
    "WHOA! Blazing fast! Morale of the story: if there is a numpy function to do it, use it! And there  is a numpy function for a lot of stuff, here's a few useful ones:\n",
    "\n",
    "[np.linalg.eig](http://docs.scipy.org/doc/numpy-1.10.0/reference/generated/numpy.linalg.eig.html) - eigenvectors/values \n",
    "\n",
    "[np.zeros](http://docs.scipy.org/doc/numpy/reference/generated/numpy.zeros.html) - create an array of zeros\n",
    "\n",
    "[np.linspace](http://docs.scipy.org/doc/numpy/reference/generated/numpy.linspace.html) - create an array of values spaced linearly between 2 endpoints\n",
    "\n",
    "[np.sort](http://docs.scipy.org/doc/numpy-1.10.1/reference/generated/numpy.sort.html) - Sort an array\n",
    "\n",
    "[np.amax](http://docs.scipy.org/doc/numpy/reference/generated/numpy.amax.html) - Return maximum value of array\n",
    "\n",
    "[np.random.rand](http://docs.scipy.org/doc/numpy/reference/generated/numpy.random.rand.html) - create array of random values in [0, 1)\n",
    "\n",
    "There's about 3 trillion more ... \n",
    "\n",
    "## A few useful tips about numpy arrays:\n",
    "---\n",
    "### 1) Most 'normal' operations are element-wise:"
   ]
  },
  {
   "cell_type": "code",
   "execution_count": 3,
   "metadata": {
    "collapsed": false
   },
   "outputs": [
    {
     "name": "stdout",
     "output_type": "stream",
     "text": [
      "     10 + A =   \n",
      "[[11 12 13]\n",
      " [14 15 16]\n",
      " [17 18 19]]\n",
      "\n",
      "    2 * A =   \n",
      "[[ 2  4  6]\n",
      " [ 8 10 12]\n",
      " [14 16 18]]\n",
      "\n",
      "       A == 5 \n",
      "[[False False False]\n",
      " [False  True False]\n",
      " [False False False]]\n",
      "\n",
      "    A + B =   \n",
      "[[10 10 10]\n",
      " [10 10 10]\n",
      " [10 10 10]]\n"
     ]
    }
   ],
   "source": [
    "A = np.array([[1, 2, 3]\n",
    "             ,[4, 5, 6]\n",
    "             ,[7, 8, 9]])\n",
    "\n",
    "B = np.array([[9, 8, 7]\n",
    "             ,[6, 5, 4]\n",
    "             ,[3, 2, 1]])\n",
    "\n",
    "print \"     10 + A =   \\n\", 10 + A\n",
    "print \"\\n    2 * A =   \\n\", 2 * A\n",
    "print \"\\n       A == 5 \\n\", A == 5\n",
    "print \"\\n    A + B =   \\n\", A + B"
   ]
  },
  {
   "cell_type": "markdown",
   "metadata": {},
   "source": [
    "### 2) You can 'slice' numpy arrays"
   ]
  },
  {
   "cell_type": "code",
   "execution_count": 26,
   "metadata": {
    "collapsed": false
   },
   "outputs": [
    {
     "name": "stdout",
     "output_type": "stream",
     "text": [
      "3rd col =  [3 6 9] \n",
      "\n",
      "1st row =  [1 2 3] \n",
      "\n",
      "top left 2x2 = \n",
      "[[1 2]\n",
      " [4 5]]\n"
     ]
    }
   ],
   "source": [
    "print \"3rd col = \", A[:, 2], '\\n'  # 3rd column (starts at 0)\n",
    "\n",
    "print \"1st row = \", A[0, :], '\\n'\n",
    "\n",
    "print \"top left 2x2 = \\n\", A[:2, :2]"
   ]
  },
  {
   "cell_type": "markdown",
   "metadata": {},
   "source": [
    "### 3) You can index a numpy array... with a numpy array"
   ]
  },
  {
   "cell_type": "code",
   "execution_count": 8,
   "metadata": {
    "collapsed": false
   },
   "outputs": [
    {
     "name": "stdout",
     "output_type": "stream",
     "text": [
      "1st and 3rd row of A = \n",
      "[[1 2 3]\n",
      " [7 8 9]] \n",
      "\n",
      "1st and 3rd column of A = \n",
      "[[1 3]\n",
      " [4 6]\n",
      " [7 9]] \n",
      "\n",
      "array mask of A = \n",
      "[1 2 5 6]\n"
     ]
    }
   ],
   "source": [
    "indices = np.array([0, 2])\n",
    "print \"1st and 3rd row of A = \\n\", A[indices], '\\n'\n",
    "\n",
    "print \"1st and 3rd column of A = \\n\", A[:,indices], '\\n'\n",
    "\n",
    "indices2 = np.asarray([[True, True, False]\n",
    "                     ,[False, True, True]\n",
    "                     ,[False, False, False]])\n",
    "\n",
    "print \"array mask of A = \\n\", A[indices2]"
   ]
  },
  {
   "cell_type": "markdown",
   "metadata": {},
   "source": [
    "### 4) And you can combine operations"
   ]
  },
  {
   "cell_type": "code",
   "execution_count": 6,
   "metadata": {
    "collapsed": false
   },
   "outputs": [
    {
     "name": "stdout",
     "output_type": "stream",
     "text": [
      "Symmetric is symmetric? \n",
      "True\n",
      "Asymmetric is symmetric? \n",
      "False\n",
      "All elements of asymmetric above 4.5:\n",
      "[ 7 42  5]\n"
     ]
    }
   ],
   "source": [
    "symmetric = np.array([[1, 4, 4]\n",
    "                     ,[4, 1, 4]\n",
    "                     ,[4, 4, 1]])\n",
    "\n",
    "asymmetric = np.array([[1, 4, 4]\n",
    "                      ,[7, 1, 4]\n",
    "                      ,[42, 5, 1]])\n",
    "\n",
    "print \"Symmetric is symmetric? \\n\", np.all(symmetric.T == symmetric)\n",
    "\n",
    "print \"Asymmetric is symmetric? \\n\", np.all(asymmetric.T == symmetric)\n",
    "\n",
    "print \"All elements of asymmetric above 4.5:\"\n",
    "\n",
    "indices = np.where(asymmetric > 4.5)\n",
    "\n",
    "print asymmetric[indices]"
   ]
  },
  {
   "cell_type": "markdown",
   "metadata": {
    "collapsed": true
   },
   "source": [
    "## Scipy\n",
    "---\n",
    "\n",
    "We're all scientists here, so It would be silly to avoid scipy. It's a library of scientifically relevant tools. Here's a list of some of the submodules:\n",
    "\n",
    "Special functions (scipy.special)\n",
    "\n",
    "Integration (scipy.integrate)\n",
    "\n",
    "Optimization (scipy.optimize)\n",
    "\n",
    "Interpolation (scipy.interpolate)\n",
    "\n",
    "Fourier Transforms (scipy.fftpack)\n",
    "\n",
    "Signal Processing (scipy.signal)\n",
    "\n",
    "Linear Algebra (scipy.linalg)\n",
    "\n",
    "Sparse Eigenvalue Problems with ARPACK\n",
    "\n",
    "Compressed Sparse Graph Routines (scipy.sparse.csgraph)\n",
    "\n",
    "Spatial data structures and algorithms (scipy.spatial)\n",
    "\n",
    "Statistics (scipy.stats)\n",
    "\n",
    "Multidimensional image processing (scipy.ndimage)\n",
    "\n",
    "File IO (scipy.io)\n",
    "\n",
    "Weave (scipy.weave)"
   ]
  },
  {
   "cell_type": "code",
   "execution_count": 16,
   "metadata": {
    "collapsed": false
   },
   "outputs": [],
   "source": [
    "from math import factorial, pi\n",
    "from scipy.special import hermite as h\n",
    "import matplotlib.pyplot as plt\n",
    "# Jupyter  \"Magic\" \n",
    "%matplotlib inline \n",
    "\n",
    "def psi(x, n):\n",
    "    N = 1.0 / np.sqrt(2**n * factorial(n)) * (1.0 / pi)\n",
    "    return N * np.exp(-x*x / 2.0) * h(n)(x)"
   ]
  },
  {
   "cell_type": "code",
   "execution_count": 25,
   "metadata": {
    "collapsed": false
   },
   "outputs": [
    {
     "data": {
      "image/png": "[encoded data removed]",
      "text/plain": [
       "<matplotlib.figure.Figure at 0x7fa2067d8a90>"
      ]
     },
     "metadata": {},
     "output_type": "display_data"
    }
   ],
   "source": [
    "fig = plt.figure(figsize=(6,6))\n",
    "x = np.linspace(-5, 5, 100)\n",
    "for n in range(5):\n",
    "    plt.plot(x, psi(x, n) + (n + 1/2))\n",
    "plt.plot(x, 0.5 * x*x, 'k')\n",
    "plt.xlim(-4,4)\n",
    "plt.ylim(0,5)\n",
    "plt.show()"
   ]
  },
  {
   "cell_type": "code",
   "execution_count": null,
   "metadata": {
    "collapsed": true
   },
   "outputs": [],
   "source": []
  }
 ],
 "metadata": {
  "kernelspec": {
   "display_name": "Python [Root]",
   "language": "python",
   "name": "Python [Root]"
  },
  "language_info": {
   "codemirror_mode": {
    "name": "ipython",
    "version": 2
   },
   "file_extension": ".py",
   "mimetype": "text/x-python",
   "name": "python",
   "nbconvert_exporter": "python",
   "pygments_lexer": "ipython2",
   "version": "2.7.12"
  },
  "nbpresent": {
   "slides": {},
   "themes": {}
  }
 },
 "nbformat": 4,
 "nbformat_minor": 0
}
