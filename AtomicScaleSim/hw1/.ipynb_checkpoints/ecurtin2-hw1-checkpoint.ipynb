{
 "cells": [
  {
   "cell_type": "code",
   "execution_count": 256,
   "metadata": {
    "collapsed": false
   },
   "outputs": [
    {
     "name": "stdout",
     "output_type": "stream",
     "text": [
      "                 filename   mean   stddev   corr   err\n",
      "AtomicScale_HW1_data1.txt  1.1852  0.0000   1.00  0.0000\n",
      "\n",
      "                 filename   mean   stddev   corr   err\n",
      "AtomicScale_HW1_data2.txt  -7.2618  0.0000   1.00  0.0000\n",
      "\n",
      "                 filename   mean   stddev   corr   err\n",
      "AtomicScale_HW1_data3.txt  -7.6513  0.0000   1.00  0.0000\n",
      "\n",
      "                 filename   mean   stddev   corr   err\n",
      "AtomicScale_HW1_data4.txt  0.2403  0.0000   1.00  0.0000\n",
      "\n"
     ]
    }
   ],
   "source": [
    "#Find the results to compare to \n",
    "from __future__ import print_function\n",
    "import numpy as np\n",
    "import subprocess\n",
    "\n",
    "files = ['AtomicScale_HW1_data' + str(i) + '.txt' for i in range(1,5)]\n",
    "for _file in files:\n",
    "    cmd = ['python', 'analyze_trace.py', _file]\n",
    "    print (subprocess.check_output(cmd))\n",
    "\n",
    "#Import the data\n",
    "data = [np.loadtxt(_file) for _file in files]\n",
    "data1 = np.loadtxt('AtomicScale_HW1_data1.txt')"
   ]
  },
  {
   "cell_type": "code",
   "execution_count": 272,
   "metadata": {
    "collapsed": false
   },
   "outputs": [],
   "source": [
    "def mean(array):\n",
    "    \"\"\"Calculate the mean of array.\n",
    "    \n",
    "    args:\n",
    "        array: 1-D array-like of integer/float data\n",
    "        \n",
    "    returns:\n",
    "        floating-point mean of array\n",
    "    \"\"\"\n",
    "    total = 0.0     #initialize for sum\n",
    "    N = len(array)  \n",
    "    \n",
    "    try:            #fails if not iterable\n",
    "        for element in array:\n",
    "            total += element\n",
    "    except:\n",
    "        print(\"Input is not iterable\")\n",
    "    \n",
    "    return total / float(N)\n",
    "\n",
    "def stdev(array):\n",
    "    \"\"\"Calculate the standard deviation of an array\n",
    "    \n",
    "    args:\n",
    "        array: 1-D array-like of integer/float data\n",
    "        \n",
    "    returns:\n",
    "        floating-point standard deviation of array \"\"\"\n",
    "    ndarray = np.asarray(array) # numpy for fast array-wise operations\n",
    "    N = len(ndarray)\n",
    "    array_mean = mean(array)\n",
    "    # element-wise subtraction and squaring\n",
    "    intermediate = (ndarray - array_mean)**2\n",
    "    total = np.sum(intermediate)\n",
    "    return np.sqrt(1.0 / (N - 1.0) * total)\n",
    "\n",
    "def autocorr_time(array, ary_mean=None, ary_stdev=None, kmax = 10**6):\n",
    "    \"\"\"Calculate the autocorrelation of an array\n",
    "    \n",
    "    If not given, mean and standard deviation are calculated\n",
    "    \n",
    "    args:\n",
    "        array: 1-D array-like of integer/float data\n",
    "        (optional) ary_mean: mean of array\n",
    "        (optional) ary_stdev: Standard deviation of array\n",
    "        \n",
    "    returns:\n",
    "        (float) autocorrelation time of array\n",
    "    \"\"\"\n",
    "    def auto_corr(array, k, mean, var):\n",
    "        \"\"\"Calculate the correlation of array\n",
    "        \n",
    "        args:\n",
    "            k:    (int)   lag of correlation\n",
    "            mean: (float) mean of array\n",
    "            var:  (float) variance of array\n",
    "        returns:\n",
    "            (float) correlation\n",
    "        \"\"\"\n",
    "        value = 0.0\n",
    "        for t in range(N - k):\n",
    "            value += (array[t] - mean) * (array[t+k] - mean)\n",
    "        value *= 1.0 / ((N - k) * var) # 1 is for python 0-indexing\n",
    "        return value\n",
    "        \n",
    "    total = 1.0 #start sum from 1\n",
    "    k = 1\n",
    "    N = len(array)\n",
    "    \n",
    "    if not ary_stdev:\n",
    "        ary_stdev = stdev(array)\n",
    "    if not ary_mean:\n",
    "        ary_mean = mean(array)\n",
    "    ary_var  = ary_stdev**2\n",
    "    \n",
    "    R = 1.0  # lets the loop start, will be written over iteration 1\n",
    "    while R > 0.0 and k < N: # k must be below N\n",
    "        R = auto_corr(array, k, ary_mean, ary_var)\n",
    "        total += 2.0 * R \n",
    "        k += 1\n",
    "    return total\n",
    "    \n",
    "def stderr(stdev, N, auto_corr_time):\n",
    "    return stdev / np.sqrt(float(N) / auto_corr_time)"
   ]
  },
  {
   "cell_type": "code",
   "execution_count": 269,
   "metadata": {
    "collapsed": false
   },
   "outputs": [
    {
     "name": "stdout",
     "output_type": "stream",
     "text": [
      "[1.1856705336000017, -7.2616757610000038, -7.6506990824999965, 0.23988026981479921]\n",
      "[1.1856705336, -7.2616757610000002, -7.6506990825000001, 0.23988026981479998]\n",
      "[0.40101703706031366, 0.10301166378091307, 0.15050589323126415, 3.710331651010879]\n",
      "[0.40101703706031361, 0.10301166378091307, 0.15050589323126415, 3.7103316510108786]\n",
      "[1.1852108944944963, -7.2617837547547586, -7.6513209962453033, 0.24026754332346387]\n"
     ]
    }
   ],
   "source": [
    "print ([mean(i) for i in data])\n",
    "print ([np.mean(i) for i in data])\n",
    "print ([stddev(i) for i in data])\n",
    "print ([np.std(i) for i in data])\n",
    "print ([mean(i[0:-1]) for i in data])  # this loses the last data point\n",
    "                                       # and is used as default in the\n",
    "                                       # given script"
   ]
  },
  {
   "cell_type": "code",
   "execution_count": 270,
   "metadata": {
    "collapsed": false
   },
   "outputs": [
    {
     "name": "stdout",
     "output_type": "stream",
     "text": [
      "[1.0953767549526698, 19.723273063306006, 27.8252019887545, 41.156207222005506]\n",
      "[1.0985554410905185, 19.663058304491656, 28.470612463229639, 41.156268790445473]\n"
     ]
    }
   ],
   "source": [
    "print ([autocorr_time(i) for i in data])\n",
    "print ([autocorr_time(i[:-1]) for i in data])"
   ]
  },
  {
   "cell_type": "code",
   "execution_count": 271,
   "metadata": {
    "collapsed": false
   },
   "outputs": [
    {
     "name": "stdout",
     "output_type": "stream",
     "text": [
      "[2, 3, 4, 5, 6, 7, 8, 9]\n",
      "[0, 1, 2, 3, 4, 5, 6, 7]\n"
     ]
    }
   ],
   "source": [
    "print ([i + 2 for i in range(10-2)])\n",
    "print ([i  for i in range(10-2)])"
   ]
  },
  {
   "cell_type": "code",
   "execution_count": null,
   "metadata": {
    "collapsed": true
   },
   "outputs": [],
   "source": []
  }
 ],
 "metadata": {
  "kernelspec": {
   "display_name": "Python [Root]",
   "language": "python",
   "name": "Python [Root]"
  },
  "language_info": {
   "codemirror_mode": {
    "name": "ipython",
    "version": 2
   },
   "file_extension": ".py",
   "mimetype": "text/x-python",
   "name": "python",
   "nbconvert_exporter": "python",
   "pygments_lexer": "ipython2",
   "version": "2.7.12"
  }
 },
 "nbformat": 4,
 "nbformat_minor": 0
}
